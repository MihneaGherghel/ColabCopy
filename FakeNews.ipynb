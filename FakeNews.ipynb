{
  "nbformat": 4,
  "nbformat_minor": 0,
  "metadata": {
    "colab": {
      "provenance": [],
      "toc_visible": true,
      "authorship_tag": "ABX9TyOrFOa7ZlGpFqJlb8OUk8GO",
      "include_colab_link": true
    },
    "kernelspec": {
      "name": "python3",
      "display_name": "Python 3"
    },
    "language_info": {
      "name": "python"
    }
  },
  "cells": [
    {
      "cell_type": "markdown",
      "metadata": {
        "id": "view-in-github",
        "colab_type": "text"
      },
      "source": [
        "<a href=\"https://colab.research.google.com/github/MihneaGherghel/ColabCopy/blob/main/FakeNews.ipynb\" target=\"_parent\"><img src=\"https://colab.research.google.com/assets/colab-badge.svg\" alt=\"Open In Colab\"/></a>"
      ]
    },
    {
      "cell_type": "code",
      "execution_count": 39,
      "metadata": {
        "colab": {
          "base_uri": "https://localhost:8080/"
        },
        "id": "Y0hxMk9rNjvA",
        "outputId": "0101d829-7a9f-4872-a8ac-33c37b2fb650"
      },
      "outputs": [
        {
          "output_type": "stream",
          "name": "stdout",
          "text": [
            "Drive already mounted at /content/gdrive; to attempt to forcibly remount, call drive.mount(\"/content/gdrive\", force_remount=True).\n"
          ]
        }
      ],
      "source": [
        "import pandas as pd\n",
        "import re\n",
        "import numpy as np\n",
        "from google.colab import drive\n",
        "drive.mount('/content/gdrive')"
      ]
    },
    {
      "cell_type": "code",
      "source": [
        "class OptainData:\n",
        "  def __init__(self,file_path):\n",
        "    self.data = pd.read_csv(file_path)\n",
        "    self.data['label'] = pd.to_numeric(self.data['label'], errors='coerce')\n",
        "    self.data = self.data.dropna()\n",
        "    self.data['label'] = self.data['label'].astype(int)\n",
        "    self.data.reset_index(inplace=True)\n",
        "\n",
        "  def split_labels_samples(self):\n",
        "    samples=self.data.drop('label',axis=1)\n",
        "    labels=self.data['label']\n",
        "    return samples,labels,self.data"
      ],
      "metadata": {
        "id": "g6JQMjHsP24S"
      },
      "execution_count": 45,
      "outputs": []
    },
    {
      "cell_type": "code",
      "source": [
        "data=OptainData('./gdrive/MyDrive/train.csv/FakeNews.csv')\n",
        "samples,labels,samples_labels=data.split_labels_samples()"
      ],
      "metadata": {
        "id": "gkHCHIz5P-bq"
      },
      "execution_count": 52,
      "outputs": []
    },
    {
      "cell_type": "code",
      "source": [
        "from sklearn.feature_extraction.text import CountVectorizer, TfidfVectorizer, HashingVectorizer\n",
        "from nltk.corpus import stopwords\n",
        "from nltk.stem.porter import PorterStemmer\n",
        "from sklearn.model_selection import train_test_split"
      ],
      "metadata": {
        "id": "HFOmvII0RM1S"
      },
      "execution_count": 53,
      "outputs": []
    },
    {
      "cell_type": "code",
      "source": [
        "messages=samples_labels.copy()\n",
        "messages.reset_index(inplace=True)\n",
        "corpus=[]\n",
        "ps=PorterStemmer()\n",
        "for i in range(0,len(messages)):\n",
        "  review=re.sub('[^a-zA-Z]',' ', messages['title'][i])\n",
        "  review=review.lower()\n",
        "  review=review.split()\n",
        "  review=[ps.stem(word) for word in review if not word in stopwords.words('english')]\n",
        "  review=' '.join(review)\n",
        "  corpus.append(review)"
      ],
      "metadata": {
        "id": "B-4BmyjeWQ-M"
      },
      "execution_count": 55,
      "outputs": []
    },
    {
      "cell_type": "code",
      "source": [
        "#BagOfWords\n",
        "cv=CountVectorizer(max_features=5000, ngram_range=(1,3))\n",
        "x=cv.fit_transform(corpus).toarray()"
      ],
      "metadata": {
        "id": "BzXmCphUYvn9"
      },
      "execution_count": 66,
      "outputs": []
    },
    {
      "cell_type": "code",
      "source": [
        "#Tfidf\n",
        "\n",
        "tfidf=TfidfVectorizer(max_features=5000, ngram_range=(1,3))\n",
        "x=tfidf.fit_transform(corpus).toarray()"
      ],
      "metadata": {
        "id": "yJmM-lOqkcte"
      },
      "execution_count": 61,
      "outputs": []
    },
    {
      "cell_type": "code",
      "source": [
        "y=samples_labels['label']"
      ],
      "metadata": {
        "id": "nmODlw95f3fk"
      },
      "execution_count": 68,
      "outputs": []
    },
    {
      "cell_type": "code",
      "source": [
        "X_train,X_test, y_train,y_test=train_test_split(x,y, test_size=0.33, random_state=0)"
      ],
      "metadata": {
        "id": "w-Y-mq7uhUDd"
      },
      "execution_count": 69,
      "outputs": []
    },
    {
      "cell_type": "code",
      "source": [
        "from sklearn.naive_bayes import MultinomialNB\n",
        "from sklearn import metrics\n",
        "import itertools"
      ],
      "metadata": {
        "id": "Kg2LBkwFjDsm"
      },
      "execution_count": 70,
      "outputs": []
    },
    {
      "cell_type": "code",
      "source": [
        "classifier=MultinomialNB()\n",
        "classifier.fit(X_train,y_train)\n",
        "pred=classifier.predict(X_test)\n",
        "score=metrics.accuracy_score(y_test,pred)\n",
        "print(score)"
      ],
      "metadata": {
        "colab": {
          "base_uri": "https://localhost:8080/"
        },
        "id": "jUAVxQJWjPL9",
        "outputId": "833f063e-2ef3-4178-a86b-0b9e44146159"
      },
      "execution_count": 71,
      "outputs": [
        {
          "output_type": "stream",
          "name": "stdout",
          "text": [
            "0.9019055509527755\n"
          ]
        }
      ]
    }
  ]
}