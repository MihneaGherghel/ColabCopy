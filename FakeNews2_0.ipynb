{
  "nbformat": 4,
  "nbformat_minor": 0,
  "metadata": {
    "colab": {
      "provenance": [],
      "authorship_tag": "ABX9TyOBxpZOsb4po36hDqkTP7mt",
      "include_colab_link": true
    },
    "kernelspec": {
      "name": "python3",
      "display_name": "Python 3"
    },
    "language_info": {
      "name": "python"
    }
  },
  "cells": [
    {
      "cell_type": "markdown",
      "metadata": {
        "id": "view-in-github",
        "colab_type": "text"
      },
      "source": [
        "<a href=\"https://colab.research.google.com/github/MihneaGherghel/ColabCopy/blob/main/FakeNews2_0.ipynb\" target=\"_parent\"><img src=\"https://colab.research.google.com/assets/colab-badge.svg\" alt=\"Open In Colab\"/></a>"
      ]
    },
    {
      "cell_type": "code",
      "execution_count": 1,
      "metadata": {
        "colab": {
          "base_uri": "https://localhost:8080/"
        },
        "id": "uqu1qkl45F6q",
        "outputId": "608b8858-fdfe-452b-8189-e51b99634bbd"
      },
      "outputs": [
        {
          "output_type": "stream",
          "name": "stdout",
          "text": [
            "Mounted at /content/gdrive\n"
          ]
        }
      ],
      "source": [
        "import pandas as pd\n",
        "import re\n",
        "import numpy as np\n",
        "from google.colab import drive\n",
        "drive.mount('/content/gdrive')"
      ]
    },
    {
      "cell_type": "code",
      "source": [
        "class OptainData:\n",
        "  def __init__(self,file_path):\n",
        "    self.data = pd.read_csv(file_path)\n",
        "    self.data['label'] = pd.to_numeric(self.data['label'], errors='coerce')\n",
        "    self.data = self.data.dropna()\n",
        "    self.data['label'] = self.data['label'].astype(int)\n",
        "    self.data.reset_index(inplace=True)\n",
        "\n",
        "  def split_labels_samples(self):\n",
        "    samples=self.data.drop('label',axis=1)\n",
        "    labels=self.data['label']\n",
        "    return samples,labels,self.data"
      ],
      "metadata": {
        "id": "xaYRjimD5QjW"
      },
      "execution_count": 2,
      "outputs": []
    },
    {
      "cell_type": "code",
      "source": [
        "data=OptainData('./gdrive/MyDrive/train.csv/FakeNews.csv')\n",
        "samples,labels,samples_labels=data.split_labels_samples()"
      ],
      "metadata": {
        "id": "n4JsDS3G5WBP"
      },
      "execution_count": 3,
      "outputs": []
    },
    {
      "cell_type": "code",
      "source": [
        "from sklearn.feature_extraction.text import CountVectorizer, TfidfVectorizer, HashingVectorizer\n",
        "from nltk.corpus import stopwords\n",
        "from nltk.stem.porter import PorterStemmer\n",
        "from sklearn.model_selection import train_test_split\n",
        "import nltk\n",
        "nltk.download('stopwords')"
      ],
      "metadata": {
        "colab": {
          "base_uri": "https://localhost:8080/"
        },
        "id": "_MlYhAkb5jSH",
        "outputId": "56e73001-0302-4e50-9c66-785747e5ce2e"
      },
      "execution_count": 7,
      "outputs": [
        {
          "output_type": "stream",
          "name": "stderr",
          "text": [
            "[nltk_data] Downloading package stopwords to /root/nltk_data...\n",
            "[nltk_data]   Unzipping corpora/stopwords.zip.\n"
          ]
        },
        {
          "output_type": "execute_result",
          "data": {
            "text/plain": [
              "True"
            ]
          },
          "metadata": {},
          "execution_count": 7
        }
      ]
    },
    {
      "cell_type": "code",
      "source": [
        "messages=samples_labels.copy()\n",
        "messages.reset_index(inplace=True)\n",
        "corpus=[]\n",
        "ps=PorterStemmer()\n",
        "for i in range(0,len(messages)):\n",
        "  review=re.sub('[^a-zA-Z]',' ', messages['title'][i])\n",
        "  review=review.lower()\n",
        "  review=review.split()\n",
        "  review=[ps.stem(word) for word in review if not word in stopwords.words('english')]\n",
        "  review=' '.join(review)\n",
        "  corpus.append(review)"
      ],
      "metadata": {
        "id": "q_if6TqH6Me9"
      },
      "execution_count": 8,
      "outputs": []
    },
    {
      "cell_type": "code",
      "source": [
        "from tensorflow.keras.layers import Embedding\n",
        "from tensorflow.keras.preprocessing.sequence import pad_sequences\n",
        "from tensorflow.keras.models import Sequential\n",
        "from tensorflow.keras.preprocessing.text import one_hot\n",
        "from tensorflow.keras.layers import LSTM\n",
        "from tensorflow.keras.layers import Dense, Dropout"
      ],
      "metadata": {
        "id": "THQkp6eN7dXo"
      },
      "execution_count": 33,
      "outputs": []
    },
    {
      "cell_type": "code",
      "source": [
        "voc_size=5000\n",
        "onehot_repr=[one_hot(words,voc_size) for words in corpus]"
      ],
      "metadata": {
        "id": "y6KcN0tG9air"
      },
      "execution_count": 20,
      "outputs": []
    },
    {
      "cell_type": "code",
      "source": [
        "sent_length=20\n",
        "embedded_docs=pad_sequences(onehot_repr,padding='pre',maxlen=sent_length)\n"
      ],
      "metadata": {
        "id": "V6cf3kGk9yZC"
      },
      "execution_count": 21,
      "outputs": []
    },
    {
      "cell_type": "code",
      "source": [
        "embedding_vector_features=5\n",
        "model=Sequential()\n",
        "model.add(Embedding(voc_size,embedding_vector_features,input_length=sent_length))\n",
        "model.add(LSTM(20))\n",
        "model.add(Dropout(0.5))\n",
        "model.add(Dense(1,activation='sigmoid'))\n",
        "model.compile(loss='binary_crossentropy', optimizer='adam', metrics=['accuracy'])"
      ],
      "metadata": {
        "id": "I3PmLIQ9-Uda"
      },
      "execution_count": 79,
      "outputs": []
    },
    {
      "cell_type": "code",
      "source": [
        "import numpy as np\n",
        "from sklearn.model_selection import train_test_split"
      ],
      "metadata": {
        "id": "N6zVAwtOAybt"
      },
      "execution_count": 80,
      "outputs": []
    },
    {
      "cell_type": "code",
      "source": [
        "X_final=np.array(embedded_docs)\n",
        "y_final=np.array(messages['label'])\n"
      ],
      "metadata": {
        "id": "kszWUPFqA4rh"
      },
      "execution_count": 81,
      "outputs": []
    },
    {
      "cell_type": "code",
      "source": [
        "X_train, X_test, y_train, y_test= train_test_split(X_final, y_final, test_size=0.33,random_state=42)"
      ],
      "metadata": {
        "id": "PfW6NWBeBRx6"
      },
      "execution_count": 82,
      "outputs": []
    },
    {
      "cell_type": "code",
      "source": [
        "model.fit(X_train,y_train,validation_data=(X_test,y_test),epochs=10, batch_size=64)"
      ],
      "metadata": {
        "colab": {
          "base_uri": "https://localhost:8080/"
        },
        "id": "Q8tJWq6uBqpU",
        "outputId": "aa36b7ab-60fc-4fcf-9204-75d5d9b2ce96"
      },
      "execution_count": 83,
      "outputs": [
        {
          "output_type": "stream",
          "name": "stdout",
          "text": [
            "Epoch 1/10\n",
            "192/192 [==============================] - 8s 26ms/step - loss: 0.5253 - accuracy: 0.7387 - val_loss: 0.2934 - val_accuracy: 0.8853\n",
            "Epoch 2/10\n",
            "192/192 [==============================] - 3s 17ms/step - loss: 0.2228 - accuracy: 0.9172 - val_loss: 0.2036 - val_accuracy: 0.9148\n",
            "Epoch 3/10\n",
            "192/192 [==============================] - 3s 14ms/step - loss: 0.1529 - accuracy: 0.9469 - val_loss: 0.1980 - val_accuracy: 0.9210\n",
            "Epoch 4/10\n",
            "192/192 [==============================] - 3s 13ms/step - loss: 0.1209 - accuracy: 0.9585 - val_loss: 0.1951 - val_accuracy: 0.9190\n",
            "Epoch 5/10\n",
            "192/192 [==============================] - 3s 15ms/step - loss: 0.0968 - accuracy: 0.9686 - val_loss: 0.2264 - val_accuracy: 0.9178\n",
            "Epoch 6/10\n",
            "192/192 [==============================] - 4s 22ms/step - loss: 0.0851 - accuracy: 0.9731 - val_loss: 0.2531 - val_accuracy: 0.9160\n",
            "Epoch 7/10\n",
            "192/192 [==============================] - 4s 21ms/step - loss: 0.0689 - accuracy: 0.9786 - val_loss: 0.2614 - val_accuracy: 0.9142\n",
            "Epoch 8/10\n",
            "192/192 [==============================] - 3s 14ms/step - loss: 0.0588 - accuracy: 0.9824 - val_loss: 0.3227 - val_accuracy: 0.9160\n",
            "Epoch 9/10\n",
            "192/192 [==============================] - 3s 14ms/step - loss: 0.0503 - accuracy: 0.9848 - val_loss: 0.2984 - val_accuracy: 0.9089\n",
            "Epoch 10/10\n",
            "192/192 [==============================] - 3s 14ms/step - loss: 0.0422 - accuracy: 0.9891 - val_loss: 0.4035 - val_accuracy: 0.9100\n"
          ]
        },
        {
          "output_type": "execute_result",
          "data": {
            "text/plain": [
              "<keras.src.callbacks.History at 0x7af5e0c99330>"
            ]
          },
          "metadata": {},
          "execution_count": 83
        }
      ]
    }
  ]
}