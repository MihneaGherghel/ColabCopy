{
  "nbformat": 4,
  "nbformat_minor": 0,
  "metadata": {
    "colab": {
      "provenance": [],
      "authorship_tag": "ABX9TyODV3lb2QhUiGTpDyFIQQZK",
      "include_colab_link": true
    },
    "kernelspec": {
      "name": "python3",
      "display_name": "Python 3"
    },
    "language_info": {
      "name": "python"
    }
  },
  "cells": [
    {
      "cell_type": "markdown",
      "metadata": {
        "id": "view-in-github",
        "colab_type": "text"
      },
      "source": [
        "<a href=\"https://colab.research.google.com/github/MihneaGherghel/FashionMinst/blob/main/SpamNotSpamSMS.ipynb\" target=\"_parent\"><img src=\"https://colab.research.google.com/assets/colab-badge.svg\" alt=\"Open In Colab\"/></a>"
      ]
    },
    {
      "cell_type": "code",
      "execution_count": 54,
      "metadata": {
        "colab": {
          "base_uri": "https://localhost:8080/"
        },
        "id": "sTLbpJk7wb3F",
        "outputId": "e5348ed4-7a74-4f01-9a94-d9894720b306"
      },
      "outputs": [
        {
          "output_type": "stream",
          "name": "stdout",
          "text": [
            "Drive already mounted at /content/drive; to attempt to forcibly remount, call drive.mount(\"/content/drive\", force_remount=True).\n"
          ]
        }
      ],
      "source": [
        "from google.colab import drive\n",
        "drive.mount('/content/drive')"
      ]
    },
    {
      "cell_type": "code",
      "source": [
        "import re\n",
        "import nltk\n",
        "from nltk.corpus import stopwords\n",
        "nltk.download('stopwords')\n",
        "from nltk.stem.porter import PorterStemmer\n",
        "from sklearn.feature_extraction.text import CountVectorizer\n",
        "from sklearn.model_selection import train_test_split\n",
        "from sklearn.naive_bayes import MultinomialNB\n",
        "from sklearn.metrics import accuracy_score"
      ],
      "metadata": {
        "colab": {
          "base_uri": "https://localhost:8080/"
        },
        "id": "Wn0h-YBlysod",
        "outputId": "335c90cc-81ac-4bb0-9219-c79b593ee2be"
      },
      "execution_count": 55,
      "outputs": [
        {
          "output_type": "stream",
          "name": "stderr",
          "text": [
            "[nltk_data] Downloading package stopwords to /root/nltk_data...\n",
            "[nltk_data]   Package stopwords is already up-to-date!\n"
          ]
        }
      ]
    },
    {
      "cell_type": "code",
      "source": [
        "class OptainData:\n",
        "  def __init__(self,file_path):\n",
        "    with open(file_path) as f:\n",
        "      self.data= f.readlines()\n",
        "      self.ps=PorterStemmer();\n",
        "\n",
        "  def split_labels_samples(self):\n",
        "    labels=[]\n",
        "    samples=[]\n",
        "    for i in self.data:\n",
        "      label,input=i.split('\\t');\n",
        "      labels.append(label)\n",
        "      samples.append(input)\n",
        "    return labels,[self.clean_sentance(x) for x in samples]\n",
        "\n",
        "  def clean_sentance(self,sentence):\n",
        "    sentence=re.sub('[^a-zA-Z]',' ', sentence)\n",
        "    sentence=sentence.lower()\n",
        "    sentence=sentence.split()\n",
        "    sentence=[self.ps.stem(x) for x in sentence if not x in stopwords.words('english')]\n",
        "    sentence=' '.join(sentence)\n",
        "    return sentence;\n"
      ],
      "metadata": {
        "id": "i37gSLQkxj5U"
      },
      "execution_count": 56,
      "outputs": []
    },
    {
      "cell_type": "code",
      "source": [
        "data=OptainData('./drive/MyDrive/SMSSpamCollection')\n",
        "labels,samples=data.split_labels_samples()"
      ],
      "metadata": {
        "id": "cG9zHExcyagO"
      },
      "execution_count": 57,
      "outputs": []
    },
    {
      "cell_type": "code",
      "source": [
        "cv=CountVectorizer(max_features=1100)\n",
        "X=cv.fit_transform(samples).toarray()"
      ],
      "metadata": {
        "id": "ydi8rWEk22OB"
      },
      "execution_count": 118,
      "outputs": []
    },
    {
      "cell_type": "code",
      "source": [
        "X_train, X_test, y_train, y_test=train_test_split(X,labels,test_size=0.20,random_state=0)"
      ],
      "metadata": {
        "id": "RJMyi9Yy6ccY"
      },
      "execution_count": 119,
      "outputs": []
    },
    {
      "cell_type": "code",
      "source": [
        "spam_detect_model=MultinomialNB().fit(X_train,y_train)"
      ],
      "metadata": {
        "id": "yaD8gc8V78Yo"
      },
      "execution_count": 120,
      "outputs": []
    },
    {
      "cell_type": "code",
      "source": [
        "y_pred=spam_detect_model.predict(X_test)"
      ],
      "metadata": {
        "id": "2oXYiDBz8XJA"
      },
      "execution_count": 121,
      "outputs": []
    },
    {
      "cell_type": "code",
      "source": [
        "accuracy=accuracy_score(y_pred,y_test)\n",
        "print(accuracy)"
      ],
      "metadata": {
        "colab": {
          "base_uri": "https://localhost:8080/"
        },
        "id": "M5z7_hbi8lpO",
        "outputId": "229ec9aa-cde0-4b6a-c964-5d74fb2c710f"
      },
      "execution_count": 122,
      "outputs": [
        {
          "output_type": "stream",
          "name": "stdout",
          "text": [
            "0.9766816143497757\n"
          ]
        }
      ]
    }
  ]
}